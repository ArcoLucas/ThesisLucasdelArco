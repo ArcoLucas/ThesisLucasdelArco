{
 "cells": [
  {
   "cell_type": "code",
   "execution_count": 1,
   "metadata": {},
   "outputs": [],
   "source": [
    "import numpy as np\n",
    "\n",
    "import torch\n",
    "import torch.nn as nn\n",
    "from torch.utils.data import Dataset, DataLoader\n",
    "import torch.optim as optim\n",
    "\n",
    "from tqdm.notebook import tqdm\n",
    "from IPython.display import clear_output\n",
    "import matplotlib.pyplot as plt\n",
    "plt.style.use('ggplot')\n"
   ]
  },
  {
   "cell_type": "code",
   "execution_count": 2,
   "metadata": {},
   "outputs": [],
   "source": [
    "def draw_edge_pair(x):\n",
    "    plt.plot([x[0], x[2]], [x[1], x[3]])\n",
    "    plt.plot([x[4], x[6]], [x[5], x[7]])\n",
    "    \n",
    "    \n",
    "def are_edge_pairs_crossed(p):\n",
    "    '''\n",
    "    p - positions of n pairs edges in a [n,8] pytorch tensor, \n",
    "        where the postions of 8 nodes come in [ax, ay, bx, by, \n",
    "        cx, cy, dy, dy] for the edge pair a-b and c-d.\n",
    "    \n",
    "    return - an 1D tensor of boolean values, \n",
    "             where True means two edges cross each other. \n",
    "    '''\n",
    "    p1, p2, p3, p4 = p[:,:2], p[:,2:4], p[:,4:6], p[:,6:]\n",
    "    a = p2 - p1\n",
    "    b = p3 - p4\n",
    "    c = p1 - p3\n",
    "    ax, ay = a[:,0], a[:,1]\n",
    "    bx, by = b[:,0], b[:,1]\n",
    "    cx, cy = c[:,0], c[:,1]\n",
    "    \n",
    "    denom = ay*bx - ax*by\n",
    "    numer_alpha = by*cx-bx*cy\n",
    "    numer_beta = ax*cy-ay*cx\n",
    "    alpha = numer_alpha / denom\n",
    "    beta = numer_beta / denom\n",
    "    return torch.logical_and(\n",
    "        torch.logical_and(0<alpha, alpha<1),\n",
    "        torch.logical_and(0<beta, beta<1),\n",
    "    )\n",
    "\n",
    "\n",
    "\n",
    "class EdgePairDataset():\n",
    "    def __init__(self, n=10000):\n",
    "        super().__init__()\n",
    "        self.n = n\n",
    "        self.data = torch.randn(n, 8)\n",
    "        self.label = are_edge_pairs_crossed(self.data)\n",
    "        \n",
    "    def __len__(self):\n",
    "        return self.n\n",
    "    \n",
    "    def __getitem__(self, i):\n",
    "        return self.data[i], self.label[i]\n",
    "    \n",
    "    \n",
    "    \n",
    "class CrossingDetector(nn.Module):\n",
    "    def __init__(self):\n",
    "        super().__init__()\n",
    "        self.layer_dims = [8,96,256,96,1]\n",
    "        self.layers = []\n",
    "        for i, (in_dim, out_dim) in enumerate(zip(self.layer_dims[:-1], self.layer_dims[1:])):\n",
    "            self.layers.append(nn.Linear(in_dim, out_dim))\n",
    "            if i < len(self.layer_dims)-2:\n",
    "                self.layers.append(nn.LeakyReLU())\n",
    "                self.layers.append(nn.LayerNorm(out_dim))\n",
    "            else:\n",
    "                self.layers.append(nn.Sigmoid())\n",
    "        self.main = nn.Sequential(*self.layers)\n",
    "        \n",
    "    def forward(self, x):\n",
    "        return self.main(x)\n",
    "    \n",
    "    \n",
    "\n"
   ]
  },
  {
   "cell_type": "markdown",
   "metadata": {},
   "source": [
    "## Training"
   ]
  },
  {
   "cell_type": "code",
   "execution_count": 8,
   "metadata": {},
   "outputs": [],
   "source": [
    "dataset = EdgePairDataset(n=int(1e6))\n",
    "dataloader = DataLoader(dataset, batch_size=1024, shuffle=True)\n",
    "\n",
    "device = 'cpu'\n",
    "model = CrossingDetector().to(device)\n",
    "bce = nn.BCELoss()\n",
    "optmizer = optim.SGD(model.parameters(), lr=0.1)"
   ]
  },
  {
   "cell_type": "code",
   "execution_count": 10,
   "metadata": {},
   "outputs": [
    {
     "data": {
      "application/vnd.jupyter.widget-view+json": {
       "model_id": "1adcbaf9674944cd9e924e226e0530c3",
       "version_major": 2,
       "version_minor": 0
      },
      "text/plain": [
       "  0%|          | 0/10 [00:00<?, ?it/s]"
      ]
     },
     "metadata": {},
     "output_type": "display_data"
    },
    {
     "data": {
      "image/png": "[encoded data removed]",
      "text/plain": [
       "<Figure size 640x480 with 1 Axes>"
      ]
     },
     "metadata": {},
     "output_type": "display_data"
    }
   ],
   "source": [
    "\n",
    "\n",
    "loss_curve = []\n",
    "for epoch in tqdm(range(10)):\n",
    "    for edge_pairs, targets in dataloader:\n",
    "        edge_pairs, targets = edge_pairs.to(device), targets.to(device)\n",
    "        pred = model(edge_pairs)\n",
    "        loss = bce(pred, targets.float().view(-1,1))\n",
    "\n",
    "        optmizer.zero_grad()\n",
    "        loss.backward()\n",
    "        optmizer.step()\n",
    "        \n",
    "    loss_curve.append(loss.item())\n",
    "    if epoch % 10 == 9:\n",
    "        plt.plot(loss_curve)\n",
    "        plt.show()\n"
   ]
  },
  {
   "cell_type": "markdown",
   "metadata": {},
   "source": [
    "## Acurracy"
   ]
  },
  {
   "cell_type": "code",
   "execution_count": 16,
   "metadata": {},
   "outputs": [],
   "source": [
    "device = 'cpu'\n",
    "# model = CrossingDetector().to(device)\n",
    "# model.load_state_dict(torch.load('neural-crossing-detector.pth', map_location=device))"
   ]
  },
  {
   "cell_type": "code",
   "execution_count": 18,
   "metadata": {},
   "outputs": [
    {
     "data": {
      "application/vnd.jupyter.widget-view+json": {
       "model_id": "0ee96921e86c4cdeab6a6ff90e6107b0",
       "version_major": 2,
       "version_minor": 0
      },
      "text/plain": [
       "  0%|          | 0/10 [00:00<?, ?it/s]"
      ]
     },
     "metadata": {},
     "output_type": "display_data"
    },
    {
     "name": "stdout",
     "output_type": "stream",
     "text": [
      "9791/10000 0.9791\n"
     ]
    }
   ],
   "source": [
    "test_loader = DataLoader(EdgePairDataset(n=int(1e4)), batch_size=1024, shuffle=True)\n",
    "\n",
    "correct = 0\n",
    "total = 0\n",
    "with torch.no_grad():\n",
    "    for edge_pairs, targets in tqdm(test_loader):\n",
    "        edge_pairs, targets = edge_pairs.to(device), targets.to(device)\n",
    "        pred = model(edge_pairs)\n",
    "        correct += ((pred>0.5) == targets.view(-1,1)).sum().item()\n",
    "        total += len(targets)\n",
    "        \n",
    "#         ## vis\n",
    "#         draw_edge_pair(edge_pairs[0])\n",
    "#         plt.title(f'{pred[0].item()}/{targets[0].item()}')\n",
    "#         plt.xlim([0,1])\n",
    "#         plt.ylim([0,1])\n",
    "#         plt.show()\n",
    "print(f'{correct}/{total} {correct/total}')"
   ]
  },
  {
   "cell_type": "code",
   "execution_count": null,
   "metadata": {},
   "outputs": [],
   "source": [
    "# torch.save(model.state_dict(), 'neural-crossing-detector.pth')"
   ]
  },
  {
   "cell_type": "markdown",
   "metadata": {},
   "source": [
    "## Test: Optimziation on a single pair of crossed edges"
   ]
  },
  {
   "cell_type": "code",
   "execution_count": null,
   "metadata": {},
   "outputs": [],
   "source": [
    "from utils import vis\n",
    "import random\n"
   ]
  },
  {
   "cell_type": "code",
   "execution_count": null,
   "metadata": {},
   "outputs": [],
   "source": [
    "from gd2 import GD2\n",
    "import networkx as nx\n",
    "import itertools\n",
    "\n"
   ]
  },
  {
   "cell_type": "code",
   "execution_count": null,
   "metadata": {},
   "outputs": [],
   "source": [
    "import criteria as C"
   ]
  },
  {
   "cell_type": "code",
   "execution_count": null,
   "metadata": {},
   "outputs": [],
   "source": [
    "device = 'cpu'\n",
    "model = CrossingDetector().to(device)\n",
    "# model.load_state_dict(torch.load('neural-crossing-detector.pth', map_location=device))\n",
    "\n",
    "\n",
    "\n",
    "# G = nx.balanced_tree(2,7)\n",
    "G = nx.grid_2d_graph(20,40)\n",
    "# G = nx.hypercube_graph(3)\n",
    "# G = nx.cycle_graph(10)\n",
    "gd = GD2(G)\n",
    "\n",
    "## filter out incident edge pairs\n",
    "edge_pairs = [\n",
    "    [gd.k2i[e1[0]], gd.k2i[e1[1]], gd.k2i[e2[0]], gd.k2i[e2[1]]] \n",
    "    for e1,e2 in itertools.product(G.edges, G.edges) \n",
    "    if e1<e2 and len(set(e1).intersection(set(e2)))==0\n",
    "]\n",
    "\n",
    "bce_pos = nn.BCELoss(reduction='sum')\n",
    "bce_nn = nn.BCELoss()\n",
    "\n",
    "optmizer_nn = optim.SGD(model.parameters(), lr=0.01, momentum=0.1)\n",
    "optmizer_pos = optim.SGD([gd.pos], lr=0.1, momentum=0.9)\n",
    "# optmizer_nn = optim.RMSprop(model.parameters(), lr=0.001)\n",
    "# optmizer_pos = optim.RMSprop([gd.pos], lr=0.1)\n",
    "\n",
    "dataloader = DataLoader(edge_pairs, batch_size=1024, shuffle=True)"
   ]
  },
  {
   "cell_type": "code",
   "execution_count": null,
   "metadata": {},
   "outputs": [],
   "source": [
    "len(edge_pairs)"
   ]
  },
  {
   "cell_type": "code",
   "execution_count": null,
   "metadata": {},
   "outputs": [],
   "source": [
    "loss_nn_curve, loss_pos_curve = [],[]\n",
    "\n",
    "\n",
    "#     sample = sum(random.sample(edge_pairs, 16), [])\n",
    "#     sample = edge_pairs\n",
    "    \n",
    "for epoch in tqdm(range(100)):\n",
    "    for i,sample in tqdm(enumerate(dataloader)):\n",
    "        sample = torch.stack(sample, 1)\n",
    "        edge_pair_pos = gd.pos[sample].view(-1,8)\n",
    "        labels = are_edge_pairs_crossed(edge_pair_pos)\n",
    "\n",
    "        model.train()\n",
    "        preds = model(edge_pair_pos.detach().to(device)).view(-1)\n",
    "        loss_nn = bce_nn(preds, (labels.float()*0.8).to(device))\n",
    "        optmizer_nn.zero_grad()\n",
    "        loss_nn.backward()\n",
    "        optmizer_nn.step()\n",
    "\n",
    "        model.eval()\n",
    "        preds = model(edge_pair_pos.to(device)).view(-1)\n",
    "        loss_pos = (\n",
    "            bce_pos(preds, (labels.float()*0.1).to(device))\n",
    "            +0.01*C.vertex_resolution(gd.pos, sampleSize=64)[0]\n",
    "        )\n",
    "        optmizer_pos.zero_grad()\n",
    "        loss_pos.backward()\n",
    "        optmizer_pos.step()\n",
    "        if i<100:\n",
    "    #         loss_nn_curve.append(loss_nn.item())\n",
    "            loss_pos_curve.append(np.log(loss_pos.item()))\n",
    "\n",
    "\n",
    "    with torch.no_grad():\n",
    "        clear_output(wait=True)\n",
    "\n",
    "        plt.figure(figsize=[16,4])\n",
    "\n",
    "        plt.subplot(131)\n",
    "#             plt.plot(loss_nn_curve, label='loss NN')\n",
    "        plt.plot(loss_pos_curve, label='loss pos')\n",
    "        plt.legend()\n",
    "\n",
    "        plt.subplot(132)\n",
    "        plt.hist([\n",
    "            preds[labels].cpu().numpy(), \n",
    "            preds[~labels].cpu().numpy()], \n",
    "            bins=np.linspace(0,1,11), \n",
    "            histtype='barstacked'\n",
    "        )\n",
    "        plt.title(f'epoch: {epoch}')\n",
    "        plt.xlim([-0.1, 1.1])\n",
    "        \n",
    "        ax = plt.subplot(133)\n",
    "        pos = gd.pos.detach().numpy()\n",
    "        pos_G = {k:pos[gd.k2i[k]] for k in gd.G.nodes}\n",
    "        vis.draw_graph(gd.G, pos_G, ax)\n",
    "        plt.autoscale()\n",
    "\n",
    "        plt.show()"
   ]
  },
  {
   "cell_type": "code",
   "execution_count": null,
   "metadata": {},
   "outputs": [],
   "source": [
    "C.vertex_resolution(gd.pos, sampleSize=64)"
   ]
  },
  {
   "cell_type": "code",
   "execution_count": null,
   "metadata": {},
   "outputs": [],
   "source": [
    "gd.pos[sample[0:2]]"
   ]
  },
  {
   "cell_type": "code",
   "execution_count": null,
   "metadata": {},
   "outputs": [],
   "source": [
    "labels = are_edge_pairs_crossed(edge_pair_pos)\n",
    "preds = model(edge_pair_pos.cuda()).detach().cpu().view(-1)\n",
    "acc = (labels == (preds>0.5)).float().mean()"
   ]
  },
  {
   "cell_type": "code",
   "execution_count": null,
   "metadata": {},
   "outputs": [],
   "source": [
    "acc"
   ]
  },
  {
   "cell_type": "code",
   "execution_count": null,
   "metadata": {},
   "outputs": [],
   "source": []
  },
  {
   "cell_type": "code",
   "execution_count": null,
   "metadata": {},
   "outputs": [],
   "source": [
    "# emin = edge_pair_pos.min(1, keepdim=True).values\n",
    "# emax = edge_pair_pos.max(1, keepdim=True).values\n"
   ]
  }
 ],
 "metadata": {
  "kernelspec": {
   "display_name": "Python 3 (ipykernel)",
   "language": "python",
   "name": "python3"
  },
  "language_info": {
   "codemirror_mode": {
    "name": "ipython",
    "version": 3
   },
   "file_extension": ".py",
   "mimetype": "text/x-python",
   "name": "python",
   "nbconvert_exporter": "python",
   "pygments_lexer": "ipython3",
   "version": "3.12.7"
  }
 },
 "nbformat": 4,
 "nbformat_minor": 4
}
