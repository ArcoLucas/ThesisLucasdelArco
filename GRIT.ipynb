{
 "cells": [
  {
   "cell_type": "code",
   "execution_count": 59,
   "id": "468a862e-4325-4a88-ab8d-e4a24fc0af2e",
   "metadata": {},
   "outputs": [
    {
     "ename": "ImportError",
     "evalue": "attempted relative import with no known parent package",
     "output_type": "error",
     "traceback": [
      "\u001b[1;31m---------------------------------------------------------------------------\u001b[0m",
      "\u001b[1;31mImportError\u001b[0m                               Traceback (most recent call last)",
      "Cell \u001b[1;32mIn[59], line 14\u001b[0m\n\u001b[0;32m     12\u001b[0m \u001b[38;5;28;01mfrom\u001b[39;00m \u001b[38;5;21;01myacs\u001b[39;00m\u001b[38;5;21;01m.\u001b[39;00m\u001b[38;5;21;01mconfig\u001b[39;00m \u001b[38;5;28;01mimport\u001b[39;00m CfgNode \u001b[38;5;28;01mas\u001b[39;00m CN\n\u001b[0;32m     13\u001b[0m \u001b[38;5;28;01mimport\u001b[39;00m \u001b[38;5;21;01mwarnings\u001b[39;00m\n\u001b[1;32m---> 14\u001b[0m \u001b[38;5;28;01mfrom\u001b[39;00m \u001b[38;5;21;01m.\u001b[39;00m\u001b[38;5;21;01mGRITSparseConv\u001b[39;00m \u001b[38;5;28;01mimport\u001b[39;00m GRITSparseConv\n\u001b[0;32m     15\u001b[0m \u001b[38;5;28;01mfrom\u001b[39;00m \u001b[38;5;21;01mtorch_geometric\u001b[39;00m\u001b[38;5;21;01m.\u001b[39;00m\u001b[38;5;21;01mnn\u001b[39;00m\u001b[38;5;21;01m.\u001b[39;00m\u001b[38;5;21;01mconv\u001b[39;00m \u001b[38;5;28;01mimport\u001b[39;00m GINEConv, GINConv\n",
      "\u001b[1;31mImportError\u001b[0m: attempted relative import with no known parent package"
     ]
    }
   ],
   "source": [
    "import numpy as np\n",
    "import torch\n",
    "import torch.nn as nn\n",
    "import torch.nn.functional as F\n",
    "import torch_geometric as pyg\n",
    "from torch_geometric.utils.num_nodes import maybe_num_nodes\n",
    "from torch_scatter import scatter, scatter_max, scatter_add\n",
    "from torch_geometric.utils import remove_self_loops, add_remaining_self_loops, add_self_loops\n",
    "#from grit.utils import negate_edge_index\n",
    "from torch_geometric.graphgym.register import *\n",
    "import opt_einsum as oe\n",
    "from yacs.config import CfgNode as CN\n",
    "import warnings\n",
    "from .GRITSparseConv import GRITSparseConv\n",
    "from torch_geometric.nn.conv import GINEConv, GINConv\n",
    "\n"
   ]
  },
  {
   "cell_type": "code",
   "execution_count": 51,
   "id": "c40a9dbd-8625-454e-b284-33df150652e7",
   "metadata": {},
   "outputs": [],
   "source": [
    "import yacs\n"
   ]
  },
  {
   "cell_type": "code",
   "execution_count": 17,
   "id": "f73d13ef-b0ac-4bb4-b2bf-cdffd4a558f8",
   "metadata": {},
   "outputs": [],
   "source": [
    "from torch_geometric.graphgym.config import cfg, set_cfg\n",
    "from torch_geometric.graphgym.config import load_cfg"
   ]
  },
  {
   "cell_type": "code",
   "execution_count": null,
   "id": "cdc6dd98-0bc9-4b17-a184-8917bc3e9b90",
   "metadata": {},
   "outputs": [],
   "source": []
  }
 ],
 "metadata": {
  "kernelspec": {
   "display_name": "Python 3 (ipykernel)",
   "language": "python",
   "name": "python3"
  },
  "language_info": {
   "codemirror_mode": {
    "name": "ipython",
    "version": 3
   },
   "file_extension": ".py",
   "mimetype": "text/x-python",
   "name": "python",
   "nbconvert_exporter": "python",
   "pygments_lexer": "ipython3",
   "version": "3.12.7"
  }
 },
 "nbformat": 4,
 "nbformat_minor": 5
}
